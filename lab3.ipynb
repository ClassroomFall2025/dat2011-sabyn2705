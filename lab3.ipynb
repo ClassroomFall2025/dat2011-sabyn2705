{
 "cells": [
  {
   "cell_type": "markdown",
   "id": "fdeff819",
   "metadata": {},
   "source": [
    "# Sinh Viên thực hiện Lab 3 ở Đây"
   ]
  },
  {
   "cell_type": "markdown",
   "id": "acc5d7dc",
   "metadata": {},
   "source": [
    "## Lab 3 - Bài 1"
   ]
  },
  {
   "cell_type": "code",
   "execution_count": 1,
   "id": "001e0507",
   "metadata": {},
   "outputs": [
    {
     "name": "stdout",
     "output_type": "stream",
     "text": [
      "Sắp xếp tăng dần :  [9, 9, 12, 19, 19, 20, 21, 23, 59, 77]\n",
      " In số nhỏ nhất : 9\n",
      "Trung bình cộng của các phần tử chia hết cho 3 là:  12.75\n",
      "Sắp xếp giảm dần: [77, 59, 23, 21, 20, 19, 19, 12, 9, 9]\n",
      "Phần tử nhỏ nhất là: 9\n",
      "Phần tử nhỏ nhất nằm ở vị trí thứ: 9\n"
     ]
    }
   ],
   "source": [
    "# Code lab 3 bài 1 ở đây\n",
    "day_so = [9, 59, 21, 9, 20, 23, 19, 12, 19, 77]\n",
    "day_so.sort()\n",
    "print(\"Sắp xếp tăng dần : \",day_so)\n",
    "print(\" In số nhỏ nhất :\",min(day_so))\n",
    "tong = 0\n",
    "dem_so =0\n",
    "for n in day_so:\n",
    "    if n % 3 == 0:\n",
    "        tong += n \n",
    "        dem_so += 1  \n",
    "if dem_so > 0:\n",
    "    tbc = tong / dem_so\n",
    "    print(\"Trung bình cộng của các phần tử chia hết cho 3 là: \",tbc)\n",
    "else:\n",
    "    print(\"Không có phần tử nào chia hết cho 3\")\n",
    "#Nâng cao : theo thứ tự giảm dần, khi đó phần tử nhỏ nhất trong danh sách sẽ là phần tử thứ mấy? \n",
    "day_so_sorted = sorted(day_so,reverse=True)\n",
    "print(\"Sắp xếp giảm dần:\", day_so_sorted)\n",
    "print(\"Phần tử nhỏ nhất là:\", day_so_sorted[-1])\n",
    "print(\"Phần tử nhỏ nhất nằm ở vị trí thứ:\", len(day_so_sorted) - 1)"
   ]
  },
  {
   "cell_type": "markdown",
   "id": "c0835310",
   "metadata": {},
   "source": [
    "## Lab 3 - Bài 2"
   ]
  },
  {
   "cell_type": "code",
   "execution_count": 2,
   "id": "fa9cb39f",
   "metadata": {},
   "outputs": [
    {
     "name": "stdout",
     "output_type": "stream",
     "text": [
      "\n",
      "Danh sách sinh viên\n",
      "Họ và tên : Trinh \n",
      "Điểm: 10.0\n",
      "Xếp loại: Xuất sắc\n",
      "Họ và tên : AA\n",
      "Điểm: 8.0\n",
      "Xếp loại: Giỏi\n",
      "Họ và tên : BB\n",
      "Điểm: 6.0\n",
      "Xếp loại: Trung bình\n",
      "Họ và tên : CCC\n",
      "Điểm: 5.0\n",
      "Xếp loại: Trung bình\n",
      "Họ và tên : DDD\n",
      "Điểm: 4.0\n",
      "Xếp loại: Yếu\n"
     ]
    }
   ],
   "source": [
    "# Code lab 3  bài 2 ở đây\n",
    "#Viết chương trình nhập dữ liệu của một sinh viên. Thông tin của sinh viên bao gồm: họ tên và điểm. \n",
    "ds_sinh_vien = []\n",
    "\n",
    "while True:\n",
    "    sinh_vien = {}\n",
    "    sinh_vien[\"ho_va_ten\"] = input(\"Nhập họ tên sinh viên (nhập 'q' để dừng): \")\n",
    "    if sinh_vien[\"ho_va_ten\"].lower() == \"q\":\n",
    "        break\n",
    "    sinh_vien[\"diem\"] = float(input(\"Nhập điểm của sinh viên: \"))\n",
    "\n",
    "    diem = sinh_vien[\"diem\"]\n",
    "    if diem < 5:\n",
    "        sinh_vien[\"xep_loai\"] = \"Yếu\"\n",
    "    elif diem < 7:\n",
    "        sinh_vien[\"xep_loai\"] = \"Trung bình\"\n",
    "    elif diem < 8:\n",
    "        sinh_vien[\"xep_loai\"] = \"Khá\"\n",
    "    elif diem < 9:\n",
    "        sinh_vien[\"xep_loai\"] = \"Giỏi\"\n",
    "    else:\n",
    "        sinh_vien[\"xep_loai\"] = \"Xuất sắc\"\n",
    "\n",
    "    ds_sinh_vien.append(sinh_vien)\n",
    "\n",
    "print(\"\\nDanh sách sinh viên\")\n",
    "for sv in ds_sinh_vien:\n",
    "    print(f\"Họ và tên : {sv['ho_va_ten']}\\nĐiểm: {sv['diem']}\\nXếp loại: {sv['xep_loai']}\")"
   ]
  },
  {
   "cell_type": "markdown",
   "id": "0f2483fe",
   "metadata": {},
   "source": [
    "## Lab 3 - Bài 3"
   ]
  },
  {
   "cell_type": "code",
   "execution_count": 3,
   "id": "7034990b",
   "metadata": {},
   "outputs": [
    {
     "name": "stdout",
     "output_type": "stream",
     "text": [
      "2 là số nguyên tố\n"
     ]
    }
   ],
   "source": [
    "# Code lab 3  bài 3 ở đây\n",
    "n = int(input(\"Nhập số nguyên: \"))\n",
    "ok = True\n",
    "i = 2\n",
    "while i < n:\n",
    "    if n % i ==0:\n",
    "        ok = False\n",
    "        break\n",
    "    i +=1\n",
    "if ok and n > 1:\n",
    "    print(n,\"là số nguyên tố\")\n",
    "else:\n",
    "    print(n,\"không phải số nguyên tố\")"
   ]
  },
  {
   "cell_type": "markdown",
   "id": "d36ea3d3",
   "metadata": {},
   "source": [
    "## Lab 3 - Bài 4"
   ]
  },
  {
   "cell_type": "code",
   "execution_count": 4,
   "id": "4c707ec1",
   "metadata": {},
   "outputs": [
    {
     "name": "stdout",
     "output_type": "stream",
     "text": [
      "Bảng cửu chương số 7\n",
      "7 x 1 = 7\n",
      "7 x 2 = 14\n",
      "7 x 3 = 21\n",
      "7 x 4 = 28\n",
      "7 x 5 = 35\n",
      "7 x 6 = 42\n",
      "7 x 7 = 49\n",
      "7 x 8 = 56\n",
      "7 x 9 = 63\n",
      "Bảng cửu chương 1 đến 9\n",
      "1 x 1 =  1\t2 x 1 =  2\t3 x 1 =  3\t4 x 1 =  4\t5 x 1 =  5\t6 x 1 =  6\t7 x 1 =  7\t8 x 1 =  8\t9 x 1 =  9\t\n",
      "1 x 2 =  2\t2 x 2 =  4\t3 x 2 =  6\t4 x 2 =  8\t5 x 2 = 10\t6 x 2 = 12\t7 x 2 = 14\t8 x 2 = 16\t9 x 2 = 18\t\n",
      "1 x 3 =  3\t2 x 3 =  6\t3 x 3 =  9\t4 x 3 = 12\t5 x 3 = 15\t6 x 3 = 18\t7 x 3 = 21\t8 x 3 = 24\t9 x 3 = 27\t\n",
      "1 x 4 =  4\t2 x 4 =  8\t3 x 4 = 12\t4 x 4 = 16\t5 x 4 = 20\t6 x 4 = 24\t7 x 4 = 28\t8 x 4 = 32\t9 x 4 = 36\t\n",
      "1 x 5 =  5\t2 x 5 = 10\t3 x 5 = 15\t4 x 5 = 20\t5 x 5 = 25\t6 x 5 = 30\t7 x 5 = 35\t8 x 5 = 40\t9 x 5 = 45\t\n",
      "1 x 6 =  6\t2 x 6 = 12\t3 x 6 = 18\t4 x 6 = 24\t5 x 6 = 30\t6 x 6 = 36\t7 x 6 = 42\t8 x 6 = 48\t9 x 6 = 54\t\n",
      "1 x 7 =  7\t2 x 7 = 14\t3 x 7 = 21\t4 x 7 = 28\t5 x 7 = 35\t6 x 7 = 42\t7 x 7 = 49\t8 x 7 = 56\t9 x 7 = 63\t\n",
      "1 x 8 =  8\t2 x 8 = 16\t3 x 8 = 24\t4 x 8 = 32\t5 x 8 = 40\t6 x 8 = 48\t7 x 8 = 56\t8 x 8 = 64\t9 x 8 = 72\t\n",
      "1 x 9 =  9\t2 x 9 = 18\t3 x 9 = 27\t4 x 9 = 36\t5 x 9 = 45\t6 x 9 = 54\t7 x 9 = 63\t8 x 9 = 72\t9 x 9 = 81\t\n"
     ]
    }
   ],
   "source": [
    "# code lab 3 bài 4 ở đây\n",
    "x = 7\n",
    "print(\"Bảng cửu chương số\",x)\n",
    "for i in range(1,10):\n",
    "    print(\"%d x %d = %d\" % (x, i, x * i))\n",
    "\n",
    "#Nâng cao\n",
    "print(\"Bảng cửu chương 1 đến 9\")\n",
    "for j in range(1,10):\n",
    "    for k in range(1,10):\n",
    "        print(f\"{k} x {j} = {j*k:2d}\", end=\"\\t\")\n",
    "    print()"
   ]
  },
  {
   "cell_type": "markdown",
   "id": "e2b41d4a",
   "metadata": {},
   "source": [
    "## Lab 3 - Bài 5: bài tập làm thêm"
   ]
  },
  {
   "cell_type": "code",
   "execution_count": 5,
   "id": "0e0172f7",
   "metadata": {},
   "outputs": [
    {
     "name": "stdout",
     "output_type": "stream",
     "text": [
      "\n",
      "\"1\": Phep tinh co ban: Cong, tru, nhan, chia\n",
      "\"2\": Luy thua: Tinh x^y\n",
      "\"3\": Can bac hai: Tinh √x\n",
      "\"4\": Ham luong giac: Sin, cos, tan\n",
      "\"5\": Logarit: Log co so 10, ln, log co so tuy chon\n",
      "\"6\": Giai phuong trinh bac nhat\n",
      "\"7\": Giai phuong trinh bac 2\n",
      "\"0\": Thoat chuong trinh\n",
      "\n",
      "Thoat chuong trinh\n"
     ]
    }
   ],
   "source": [
    "# code lab 3  bài làm thêm ở đây \n",
    "import math\n",
    "Menu = \"\"\"\n",
    "\"1\": Phep tinh co ban: Cong, tru, nhan, chia\n",
    "\"2\": Luy thua: Tinh x^y\n",
    "\"3\": Can bac hai: Tinh √x\n",
    "\"4\": Ham luong giac: Sin, cos, tan\n",
    "\"5\": Logarit: Log co so 10, ln, log co so tuy chon\n",
    "\"6\": Giai phuong trinh bac nhat\n",
    "\"7\": Giai phuong trinh bac 2\n",
    "\"0\": Thoat chuong trinh\n",
    "\"\"\"\n",
    "\n",
    "while True:\n",
    "    print(Menu)\n",
    "    luaChon = input(\"Ban chon chuc nang: \")\n",
    "\n",
    "    match luaChon:\n",
    "        case \"0\":\n",
    "            print(\"Thoat chuong trinh\")\n",
    "            break\n",
    "\n",
    "        case \"1\":\n",
    "            a = float(input(\"Nhap so a: \"))\n",
    "            b = float(input(\"Nhap so b: \"))\n",
    "            print(\"a =\", a, \"\\nb =\", b)\n",
    "            print(\"Phep Cong:\", a + b)\n",
    "            print(\"Phep Tru:\", a - b)\n",
    "            print(\"Phep Nhan:\", a * b)\n",
    "            if b != 0:\n",
    "                print(\"Phep Chia:\", a / b)\n",
    "            else:\n",
    "                print(\"Khong the chia cho 0\")\n",
    "\n",
    "        case \"2\":\n",
    "            a = float(input(\"Nhap so a: \"))\n",
    "            b = float(input(\"Nhap so b: \"))\n",
    "            print(\"a =\", a, \"b =\", b)\n",
    "            print(\"Luy thua a^b =\", a**b)\n",
    "\n",
    "        case \"3\":\n",
    "            a = float(input(\"Nhap so a: \"))\n",
    "            if a >= 0:\n",
    "                print(\"Can bac 2 cua\", a, \"=\", math.sqrt(a))\n",
    "            else:\n",
    "                print(\"Khong tinh duoc can bac 2 cua so am\")\n",
    "\n",
    "        case \"4\":\n",
    "            goc = float(input(\"Nhap goc (do): \"))\n",
    "            rad = math.radians(goc)\n",
    "            print(\"Sin =\", math.sin(rad))\n",
    "            print(\"Cos =\", math.cos(rad))\n",
    "            print(\"Tan =\", math.tan(rad))\n",
    "\n",
    "        case \"5\":\n",
    "            x = float(input(\"Nhap so x: \"))\n",
    "            if x > 0:\n",
    "                print(\"log10(x) =\", math.log10(x))\n",
    "                print(\"ln(x) =\", math.log(x))\n",
    "                base = float(input(\"Nhap co so log: \"))\n",
    "                if base > 0 and base != 1:\n",
    "                    print(f\"log_{base}(x) =\", math.log(x, base))\n",
    "                else:\n",
    "                    print(\"Co so log phai >0 va !=1\")\n",
    "            else:\n",
    "                print(\"Khong tinh duoc log voi x <= 0\")\n",
    "\n",
    "        case \"6\":\n",
    "            a = float(input(\"Nhap he so a: \"))\n",
    "            b = float(input(\"Nhap he so b: \"))\n",
    "            if a == 0:\n",
    "                if b == 0:\n",
    "                    print(\"Phuong trinh vo so nghiem\")\n",
    "                else:\n",
    "                    print(\"Phuong trinh vo nghiem\")\n",
    "            else:\n",
    "                x = -b / a\n",
    "                print(\"Nghiem la:\", x)\n",
    "\n",
    "        case \"7\":\n",
    "            a = float(input(\"Nhap he so a: \"))\n",
    "            b = float(input(\"Nhap he so b: \"))\n",
    "            c = float(input(\"Nhap he so c: \"))\n",
    "\n",
    "            if a == 0:  \n",
    "                if b == 0:\n",
    "                    if c == 0:\n",
    "                        print(\"Phuong trinh vo so nghiem\")\n",
    "                    else:\n",
    "                        print(\"Phuong trinh vo nghiem\")\n",
    "                else:\n",
    "                    x = -c / b\n",
    "                    print(\"Nghiem duy nhat:\", x)\n",
    "            else:\n",
    "                delta = b*b - 4*a*c\n",
    "                if delta < 0:\n",
    "                    print(\"Phuong trinh vo nghiem\")\n",
    "                elif delta == 0:\n",
    "                    x = -b / (2*a)\n",
    "                    print(\"Phuong trinh co nghiem kep x =\", x)\n",
    "                else:\n",
    "                    x1 = (-b + math.sqrt(delta)) / (2*a)\n",
    "                    x2 = (-b - math.sqrt(delta)) / (2*a)\n",
    "                    print(\"Phuong trinh co 2 nghiem phan biet:\")\n",
    "                    print(\"x1 =\", x1)\n",
    "                    print(\"x2 =\", x2)\n",
    "        case \"8\":\n",
    "            print(\"Lich su: Luu va xem lai cac phep tinh da thuc hien\")\n",
    "        case \"9\":\n",
    "            print(\"Thoi gian: Hien thi thoi gian hien tai\")\n",
    "        case \"10\":\n",
    "            print(\"Giao dien than thien: Menu de su dung bang tieng Viet\",Menu)\n",
    "        case _:\n",
    "            print(\"Lua chon khong hop le\")"
   ]
  }
 ],
 "metadata": {
  "kernelspec": {
   "display_name": "Python 3",
   "language": "python",
   "name": "python3"
  },
  "language_info": {
   "codemirror_mode": {
    "name": "ipython",
    "version": 3
   },
   "file_extension": ".py",
   "mimetype": "text/x-python",
   "name": "python",
   "nbconvert_exporter": "python",
   "pygments_lexer": "ipython3",
   "version": "3.13.7"
  }
 },
 "nbformat": 4,
 "nbformat_minor": 5
}
