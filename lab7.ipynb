{
 "cells": [
  {
   "cell_type": "markdown",
   "id": "fdeff819",
   "metadata": {},
   "source": [
    "# Sinh Viên thực hiện Lab 7 ở Đây"
   ]
  },
  {
   "cell_type": "markdown",
   "id": "acc5d7dc",
   "metadata": {},
   "source": [
    "## Lab 7 - Bài 1"
   ]
  },
  {
   "cell_type": "code",
   "execution_count": 10,
   "id": "001e0507",
   "metadata": {},
   "outputs": [
    {
     "name": "stdout",
     "output_type": "stream",
     "text": [
      "Tự nguyện\n",
      "Trương Quốc Khánh\n",
      "Nếu là chim, tôi sẽ là loài bồ câu trắng\n",
      "Nếu là hoa, tôi sẽ là một đóa hướng dương\n",
      "Nếu là mây, tôi sẽ là một vầng mây ấm\n",
      "Là người, tôi sẽ chết cho quê hương.\n",
      "\n",
      "Là chim, tôi sẽ cất cao đôi cánh mềm\n",
      "Từ nam ra ngoài bắc báo tin nối liền\n",
      "Là hoa, tôi nở tình yêu ban sớm\n",
      "Cùng muôn trái tim ngất ngây hoà bình.\n",
      "\n",
      "Là mây, theo làn gió tung bay khắp trời\n",
      "Nghìn xưa oai hùng đó tôi xin tiếp lời\n",
      "Là người, xin một lần khi nằm xuống\n",
      "Nhìn anh em đứng lên phất cao ngọn cờ.\n",
      "\n",
      "----Chính ký tự đầu tiên là : Tự nguyện\n",
      "----Tác giả là : Trương Quốc Khánh\n"
     ]
    }
   ],
   "source": [
    "# Code lab 7 bài 1 ở đây\n",
    "f = open(\"Resource.txt\",\"rt\",encoding=\"utf-8\")\n",
    "noidung = f.read()\n",
    "print(noidung)\n",
    "\n",
    "f.seek(0)\n",
    "chin_ki_tu = f.read(9)\n",
    "print(\"\\n----Chính ký tự đầu tiên là :\",chin_ki_tu)\n",
    "\n",
    "f.seek(0)\n",
    "cac_dong = f.readlines()\n",
    "if len(cac_dong) >= 2:\n",
    "    tac_gia = cac_dong[1].strip()\n",
    "    print(\"----Tác giả là :\",tac_gia)\n",
    "else:\n",
    "    print(\"\\n----Không tìm thấy dòng thứ 2\")\n",
    "\n",
    "f.close()"
   ]
  },
  {
   "cell_type": "markdown",
   "id": "c0835310",
   "metadata": {},
   "source": [
    "## Lab 7 - Bài 2"
   ]
  },
  {
   "cell_type": "code",
   "execution_count": 12,
   "id": "fa9cb39f",
   "metadata": {},
   "outputs": [
    {
     "name": "stdout",
     "output_type": "stream",
     "text": [
      "Đã ghi xong vào file Lab7-Exercise2\n"
     ]
    }
   ],
   "source": [
    "# Code lab 7  bài 2 ở đây\n",
    "filename = \"Lab7-Exercise2\"\n",
    "\n",
    "with open(filename, \"w\", encoding=\"utf-8\") as f:\n",
    "    f.write(\"\"\"\n",
    "\"...\n",
    "Nếu một mai tôi có bay lên trời\n",
    "Thì người ơi tôi đã sống rất thảnh thơi\n",
    "Nếu một mai tôi có đi qua đời\n",
    "Thì người ơi tôi đã sống rất tuyệt vời\n",
    "...\"\n",
    "            \"\"\")\n",
    "    \n",
    "print(\"Đã ghi xong vào file\", filename)"
   ]
  },
  {
   "cell_type": "markdown",
   "id": "0f2483fe",
   "metadata": {},
   "source": [
    "## Lab 7 - Bài 3"
   ]
  },
  {
   "cell_type": "code",
   "execution_count": 16,
   "id": "7034990b",
   "metadata": {},
   "outputs": [
    {
     "name": "stdout",
     "output_type": "stream",
     "text": [
      "--- Nhập bài thơ thứ 1 ---\n",
      "--- Nhập bài thơ thứ 2 ---\n",
      "--- Nhập bài thơ thứ 3 ---\n",
      "--- Nhập bài thơ thứ 4 ---\n",
      "--- Nhập bài thơ thứ 5 ---\n",
      "Đã ghi dữ liệu 5 bài thơ vào file poems.csv thành công!\n"
     ]
    }
   ],
   "source": [
    "# Code lab 7  bài 3 ở đây\n",
    "f = open(\"poems.csv\", \"w\", encoding=\"utf-8\")\n",
    "f.write(\"TieuDe,TacGia,NamSangTac\\n\")\n",
    "f.write(\"--------------------------\\n\")\n",
    "\n",
    "\n",
    "for i in range(5):\n",
    "    print(f\"--- Nhập bài thơ thứ {i+1} ---\")\n",
    "    tieude = input(\"Nhập tiêu đề: \")\n",
    "    tacgia = input(\"Nhập tác giả: \")\n",
    "    nam = input(\"Nhập năm sáng tác: \")\n",
    "    f.write(f\"Tiêu đề : {tieude}\\n\")\n",
    "    f.write(f\"Tác Giả : {tacgia}\\n\")\n",
    "    f.write(f\"Năm Sáng Tác : {nam}\\n\")\n",
    "    f.write(\"--------------------------\\n\")\n",
    "\n",
    "f.close()\n",
    "print(\"Đã ghi dữ liệu 5 bài thơ vào file poems.csv thành công!\")\n",
    "\n"
   ]
  },
  {
   "cell_type": "markdown",
   "id": "d36ea3d3",
   "metadata": {},
   "source": [
    "## Lab 7 - Bài 4"
   ]
  },
  {
   "cell_type": "code",
   "execution_count": 1,
   "id": "4c707ec1",
   "metadata": {},
   "outputs": [
    {
     "name": "stdout",
     "output_type": "stream",
     "text": [
      "Đã chuyển nội dung từ Resource.txt sang poem.xml thành công!\n"
     ]
    }
   ],
   "source": [
    "# code lab 7 bài 4 ở đây\n",
    "with open(\"Resource.txt\", \"r\", encoding=\"utf-8\") as f:\n",
    "    lines = [line.strip() for line in f.readlines()]\n",
    "\n",
    "lines = [line for line in lines if line.strip() != \"\"]\n",
    "\n",
    "ten_bai_tho = lines[0]\n",
    "\n",
    "tac_gia = lines[1]\n",
    "\n",
    "with open(\"Resource.txt\", \"r\", encoding=\"utf-8\") as f:\n",
    "    content = f.read().strip()\n",
    "\n",
    "sections_raw = content.split(\"\\n\\n\")\n",
    "\n",
    "sections = [s.strip().replace(\"\\n\", \" \") for s in sections_raw]\n",
    "\n",
    "xml_content = \"<songs>\\n\"\n",
    "xml_content += f\"    <name>{ten_bai_tho}</name>\\n\"\n",
    "xml_content += f\"    <author>{tac_gia}</author>\\n\"\n",
    "for s in sections:\n",
    "    xml_content += f\"    <section>{s}</section>\\n\"\n",
    "xml_content += \"</songs>\"\n",
    "\n",
    "with open(\"poem.xml\", \"w\", encoding=\"utf-8\") as f:\n",
    "    f.write(xml_content)\n",
    "\n",
    "print(\"Đã chuyển nội dung từ Resource.txt sang poem.xml thành công!\")\n"
   ]
  },
  {
   "cell_type": "markdown",
   "id": "e2b41d4a",
   "metadata": {},
   "source": [
    "## Lab 7 - Bài 5: bài tập làm thêm"
   ]
  },
  {
   "cell_type": "code",
   "execution_count": null,
   "id": "0e0172f7",
   "metadata": {},
   "outputs": [],
   "source": [
    "# code lab 7  bài làm thêm ở đây "
   ]
  }
 ],
 "metadata": {
  "kernelspec": {
   "display_name": "Python 3",
   "language": "python",
   "name": "python3"
  },
  "language_info": {
   "codemirror_mode": {
    "name": "ipython",
    "version": 3
   },
   "file_extension": ".py",
   "mimetype": "text/x-python",
   "name": "python",
   "nbconvert_exporter": "python",
   "pygments_lexer": "ipython3",
   "version": "3.13.7"
  }
 },
 "nbformat": 4,
 "nbformat_minor": 5
}
