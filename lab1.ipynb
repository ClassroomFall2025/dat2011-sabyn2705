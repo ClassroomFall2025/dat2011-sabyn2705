{
 "cells": [
  {
   "cell_type": "markdown",
   "id": "fdeff819",
   "metadata": {},
   "source": [
    "# Sinh Viên thực hiện Lab 1 ở Đây"
   ]
  },
  {
   "cell_type": "markdown",
   "id": "acc5d7dc",
   "metadata": {},
   "source": [
    "## Lab 1 - Bài 1"
   ]
  },
  {
   "cell_type": "code",
   "execution_count": null,
   "id": "001e0507",
   "metadata": {},
   "outputs": [
    {
     "name": "stdout",
     "output_type": "stream",
     "text": [
      "Xin chào mọi người\n",
      "Mình tên là Sabyn - Lê Thị Tuyết Trinh\n",
      "Sabyn gốc ở Huế - Quảng trị nhưng được sinh ra lớn lên tại Gia Lai\n"
     ]
    }
   ],
   "source": [
    "# Code lab 1 bài 1 ở đây\n",
    "print(\"Xin chào mọi người\")\n",
    "print(\"Mình tên là Sabyn - Lê Thị Tuyết Trinh\")\n",
    "print(\"Sabyn gốc ở Huế - Quảng trị nhưng được sinh ra lớn lên tại Gia Lai\")"
   ]
  },
  {
   "cell_type": "markdown",
   "id": "c0835310",
   "metadata": {},
   "source": [
    "## Lab 1 - Bài 2"
   ]
  },
  {
   "cell_type": "code",
   "execution_count": null,
   "id": "fa9cb39f",
   "metadata": {},
   "outputs": [],
   "source": [
    "# Code lab 1  bài 2 ở đây Viết chương trình nhập từ bàn phím 2 cạnh của hình chữ nhật. Tính và xuất ra \n",
    "#màn hình chu vi và diện tích của hình chữ nhật. \n",
    "chieudai = float(input('Nhap chieu dai : '))\n",
    "chieurong = float(input('Nhap chieu rong : '))\n",
    "print(\"Chieu dai :\",chieudai)\n",
    "print(\"Chieu rong :\",chieurong)\n",
    "chuvi = (chieudai + chieurong)*2\n",
    "dientich = chieudai*chieurong\n",
    "print(\"Chu vi cua hinh chu nhat la :\",chuvi)\n",
    "print(\"Dien tich cua hinh chu nhat la :\", dientich)"
   ]
  },
  {
   "cell_type": "markdown",
   "id": "0f2483fe",
   "metadata": {},
   "source": [
    "## Lab 1 - Bài 3"
   ]
  },
  {
   "cell_type": "code",
   "execution_count": null,
   "id": "7034990b",
   "metadata": {},
   "outputs": [
    {
     "name": "stdout",
     "output_type": "stream",
     "text": [
      "\"...\n",
      "Sống không giận, không hờn không oán trách\n",
      "Sống mỉm cười, với thử thách chông gai\n",
      "Sống vươn lên, theo kịp ánh ban mai\n",
      "Sống chan hòa, với những người chung sống.\n",
      "\n",
      "Sống là động, nhưng lòng luôn bất động\n",
      "Sống là thương, nhưng lòng chẳng vấn vương\n",
      "Sống yên vui, danh lợi mãi coi thường\n",
      "Tâm bất biến, giữa dòng đời vạn biến.\n",
      "...\"\n"
     ]
    }
   ],
   "source": [
    " # Code lab 1  bài 3 ở đây Xuất bài thơ sau ra màn hình: \n",
    "song = \"Sống\"\n",
    "\n",
    "poem = f'''\"...\n",
    "{song} không giận, không hờn không oán trách\n",
    "{song} mỉm cười, với thử thách chông gai\n",
    "{song} vươn lên, theo kịp ánh ban mai\n",
    "{song} chan hòa, với những người chung {song.lower()}.\n",
    "\n",
    "{song} là động, nhưng lòng luôn bất động\n",
    "{song} là thương, nhưng lòng chẳng vấn vương\n",
    "{song} yên vui, danh lợi mãi coi thường\n",
    "Tâm bất biến, giữa dòng đời vạn biến.\n",
    "...\"'''\n",
    "\n",
    "print(poem)"
   ]
  },
  {
   "cell_type": "markdown",
   "id": "d36ea3d3",
   "metadata": {},
   "source": [
    "## Lab 1 - Bài 4"
   ]
  },
  {
   "cell_type": "code",
   "execution_count": null,
   "id": "4c707ec1",
   "metadata": {},
   "outputs": [],
   "source": [
    "# code lab 1 bài 4 ở đây Viết chương trình nhập các hệ số của phương trình bậc 2. Tính delta và xuất căn \n",
    "#delta ra màn hình.\n",
    "import math\n",
    "a = float(input('Nhap so a :'))\n",
    "print (\"a =  \",a)\n",
    "b = float(input('Nhap so b :'))\n",
    "print (\"b =  \",b)\n",
    "c = float(input('Nhap so c :'))\n",
    "print (\"c =  \",c)\n",
    "delta = (b*b) - (4*a*c)\n",
    "print(\"delta = \",delta)\n",
    "\n",
    "can_delta = math.sqrt(abs(delta))\n",
    "print(\"delta = \",can_delta)"
   ]
  },
  {
   "cell_type": "markdown",
   "id": "e2b41d4a",
   "metadata": {},
   "source": [
    "## Lab 1 - Bài 5: bài tập làm thêm"
   ]
  },
  {
   "cell_type": "code",
   "execution_count": null,
   "id": "0e0172f7",
   "metadata": {},
   "outputs": [
    {
     "name": "stdout",
     "output_type": "stream",
     "text": [
      " a =  10.0\n",
      " b =  5.0\n",
      "Phép Cộng  15.0\n",
      "Phép Trừ  5.0\n",
      "Phép Nhân  50.0\n",
      "Phép Chia  2.0\n"
     ]
    }
   ],
   "source": [
    "# code lab 1  bài làm thêm ở đây \n",
    "#1.Phép tính cơ bản: +, -, *, /\n",
    "a = float(input('Nhap so a : '))\n",
    "print(\" a = \",a)\n",
    "b = float(input('Nhap so b : '))\n",
    "print(\" b = \",b)\n",
    "print(\"Phép Cộng \", a+b)\n",
    "print(\"Phép Trừ \", a-b)\n",
    "print(\"Phép Nhân \", a*b)\n",
    "print(\"Phép Chia \", a/b)"
   ]
  },
  {
   "cell_type": "code",
   "execution_count": 5,
   "id": "065841a7",
   "metadata": {},
   "outputs": [
    {
     "name": "stdout",
     "output_type": "stream",
     "text": [
      " a =  2.0\n",
      " b =  2.0\n",
      "Lũy thừa của a và b là   4.0\n"
     ]
    }
   ],
   "source": [
    "#2.Lũy thừa\n",
    "a = float(input('Nhap so a : '))\n",
    "print(\" a = \",a)\n",
    "b = float(input('Nhap so b : '))\n",
    "print(\" b = \",b)\n",
    "print(\"Lũy thừa của a và b là  \", a**b)"
   ]
  },
  {
   "cell_type": "code",
   "execution_count": 6,
   "id": "109c84bd",
   "metadata": {},
   "outputs": [
    {
     "name": "stdout",
     "output_type": "stream",
     "text": [
      " a =  4.0\n",
      "Căn bậc 2 của a là  2.0\n"
     ]
    }
   ],
   "source": [
    "#3 Căn bậc 2\n",
    "import math\n",
    "a = float(input('Nhap so a : '))\n",
    "print(\" a = \",a)\n",
    "print(\"Căn bậc 2 của a là \",math.sqrt(a))"
   ]
  },
  {
   "cell_type": "code",
   "execution_count": 7,
   "id": "6dccaf83",
   "metadata": {},
   "outputs": [
    {
     "name": "stdout",
     "output_type": "stream",
     "text": [
      "Góc nhập vào :  60.0\n",
      "Radian  =  1.0471975511965976\n",
      "Sin = 0.8660254037844386\n",
      "Cos = 0.5000000000000001\n",
      "Tan = 1.7320508075688767\n"
     ]
    }
   ],
   "source": [
    "#4 Hàm lượng giác (sin, cos, tan)\n",
    "import math\n",
    "goc =float(input('Nhập góc: '))\n",
    "print(\"Góc nhập vào : \",goc)\n",
    "rad = math.radians(goc)\n",
    "print(\"Radian  = \",rad)\n",
    "print(\"Sin =\",math.sin(rad))\n",
    "print(\"Cos =\",math.cos(rad))\n",
    "print(\"Tan =\",math.tan(rad))"
   ]
  },
  {
   "cell_type": "code",
   "execution_count": 8,
   "id": "8ab07ca7",
   "metadata": {},
   "outputs": [
    {
     "name": "stdout",
     "output_type": "stream",
     "text": [
      "x =  100.0\n",
      "log10(x) = 2.0\n",
      "ln(x) = 4.605170185988092\n",
      "log_5.0(x) =  2.8613531161467867\n"
     ]
    }
   ],
   "source": [
    "#5 Viết chương trình tính logarit : log cơ số 10,ln,log cơ số tùy thích\n",
    "import math\n",
    "x = float(input(\"Nhap so x :\"))\n",
    "print(\"x = \",x)\n",
    "\n",
    "print(\"log10(x) =\",math.log10(x))\n",
    "print(\"ln(x) =\",math.log(x))\n",
    "\n",
    "base = float(input(\"Nhap so log :\"))\n",
    "print(f\"log_{base}(x) = \", math.log(x, base))"
   ]
  },
  {
   "cell_type": "markdown",
   "id": "a5da7389",
   "metadata": {},
   "source": []
  }
 ],
 "metadata": {
  "kernelspec": {
   "display_name": "Python 3",
   "language": "python",
   "name": "python3"
  },
  "language_info": {
   "codemirror_mode": {
    "name": "ipython",
    "version": 3
   },
   "file_extension": ".py",
   "mimetype": "text/x-python",
   "name": "python",
   "nbconvert_exporter": "python",
   "pygments_lexer": "ipython3",
   "version": "3.13.7"
  }
 },
 "nbformat": 4,
 "nbformat_minor": 5
}
