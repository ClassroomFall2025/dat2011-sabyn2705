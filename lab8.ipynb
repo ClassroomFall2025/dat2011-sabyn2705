{
 "cells": [
  {
   "cell_type": "markdown",
   "id": "fdeff819",
   "metadata": {},
   "source": [
    "# Sinh Viên thực hiện Lab 8 ở Đây"
   ]
  },
  {
   "cell_type": "markdown",
   "id": "acc5d7dc",
   "metadata": {},
   "source": [
    "## Lab 8 - Bài 1"
   ]
  },
  {
   "cell_type": "code",
   "execution_count": 1,
   "id": "001e0507",
   "metadata": {},
   "outputs": [
    {
     "name": "stdout",
     "output_type": "stream",
     "text": [
      "Họ: LÊ\n",
      "Tên đệm: Thị Tuyết\n",
      "Tên: TRINH\n"
     ]
    }
   ],
   "source": [
    "# Code lab 8 bài 1 ở đây\n",
    "ho_ten = input(\"Nhập họ và tên: \").strip()\n",
    "tach = ho_ten.split()\n",
    "ho = tach[0].upper()\n",
    "ten = tach[-1].upper()\n",
    "ten_dem = \" \".join(tach[1:-1])\n",
    "\n",
    "print(\"Họ:\", ho)\n",
    "print(\"Tên đệm:\", ten_dem)\n",
    "print(\"Tên:\", ten)"
   ]
  },
  {
   "cell_type": "markdown",
   "id": "c0835310",
   "metadata": {},
   "source": [
    "## Lab 8 - Bài 2"
   ]
  },
  {
   "cell_type": "code",
   "execution_count": 2,
   "id": "fa9cb39f",
   "metadata": {},
   "outputs": [
    {
     "name": "stdout",
     "output_type": "stream",
     "text": [
      "Thông tin sinh viên hợp lệ:\n",
      "Ho và Tên: Lê Thị Tuyết Trinh\n",
      "Email: trinhdihoc2705@gmail.com\n",
      "Số điện thoại: 0349570720\n",
      "CMND: 064300014030\n"
     ]
    }
   ],
   "source": [
    "# Code lab 8  bài 2 ở đây\n",
    "import re\n",
    "#dictionary\n",
    "sinh_vien = {}\n",
    "\n",
    "sinh_vien[\"Ho và Tên\"] = input(\"Nhập họ và tên sinh viên: \").strip()\n",
    "sinh_vien[\"Email\"] = input(\"Nhập email sinh viên: \").strip()\n",
    "sinh_vien[\"Số điện thoại\"] = input(\"Nhập số điện thoại sinh vien: \").strip()\n",
    "sinh_vien[\"CMND\"] = input(\"Nhập số CMND sinh viên: \").strip()\n",
    "\n",
    "email_hople = re.match(r'^[\\w\\.-]+@[\\w\\.-]+\\.\\w+$', sinh_vien[\"Email\"])\n",
    "sdt_hople = re.match(r'^0\\d{9}$', sinh_vien[\"Số điện thoại\"])\n",
    "cmnd_hople = re.match(r'^\\d{9}$|^\\d{12}$', sinh_vien[\"CMND\"])\n",
    "\n",
    "if not email_hople:\n",
    "    print(\"Nhập sai Email gời bạn ơi\")\n",
    "if not sdt_hople:\n",
    "    print(\"Nhập sai số điện thoại gời nè!\")\n",
    "if not cmnd_hople:\n",
    "    print(\"Có thật là CMND của ní không dậy? Mèn ơi!\")\n",
    "\n",
    "if email_hople and sdt_hople and cmnd_hople:\n",
    "    print(\"Thông tin sinh viên hợp lệ:\")\n",
    "    for key, value in sinh_vien.items():\n",
    "        print(f\"{key}: {value}\")"
   ]
  },
  {
   "cell_type": "markdown",
   "id": "0f2483fe",
   "metadata": {},
   "source": [
    "## Lab 8 - Bài 3"
   ]
  },
  {
   "cell_type": "code",
   "execution_count": 3,
   "id": "7034990b",
   "metadata": {},
   "outputs": [
    {
     "name": "stdout",
     "output_type": "stream",
     "text": [
      "Đã tạo file random.txt với 1.000.000 số ngẫu nhiên từ 0 đến 100.\n"
     ]
    }
   ],
   "source": [
    "# Code lab 8  bài 3 ở đây\n",
    "import random\n",
    "\n",
    "number = [str(random.randint(0,100)) for _ in range(1_000_000)]\n",
    "\n",
    "with open(\"random.txt\", \"w\") as f:\n",
    "    f.write(\"\\n\".join(number)) \n",
    "    \n",
    "print(\"Đã tạo file random.txt với 1.000.000 số ngẫu nhiên từ 0 đến 100.\")"
   ]
  },
  {
   "cell_type": "markdown",
   "id": "d36ea3d3",
   "metadata": {},
   "source": [
    "## Lab 8 - Bài 4"
   ]
  },
  {
   "cell_type": "code",
   "execution_count": 4,
   "id": "4c707ec1",
   "metadata": {},
   "outputs": [
    {
     "name": "stdout",
     "output_type": "stream",
     "text": [
      "Giá trị trung bình (mean): 50.033731\n",
      "Độ lệch chuẩn (standard deviation): 29.1423045501476\n"
     ]
    }
   ],
   "source": [
    "# code lab 8 bài 4 ở đây\n",
    "import statistics\n",
    "\n",
    "with open(\"random.txt\", \"r\") as f:\n",
    "    data = f.read().split()\n",
    "\n",
    "numbers = list(map(int, data))\n",
    "\n",
    "mean_value = statistics.mean(numbers)\n",
    "stdev_value = statistics.stdev(numbers)\n",
    "\n",
    "print(f\"Giá trị trung bình (mean): {mean_value}\")\n",
    "print(f\"Độ lệch chuẩn (standard deviation): {stdev_value}\")"
   ]
  },
  {
   "cell_type": "markdown",
   "id": "e2b41d4a",
   "metadata": {},
   "source": [
    "## Lab 8 - Bài 5: bài tập làm thêm"
   ]
  },
  {
   "cell_type": "code",
   "execution_count": 5,
   "id": "0e0172f7",
   "metadata": {},
   "outputs": [
    {
     "name": "stdout",
     "output_type": "stream",
     "text": [
      "Giá trị trung bình (mean): 50.033731\n",
      "Độ lệch chuẩn (standard deviation): 29.1423045501476\n"
     ]
    }
   ],
   "source": [
    "# code lab 8  bài làm thêm ở đây Nâng cao bài 4\n",
    "import statistics\n",
    "\n",
    "def read_number(filename):\n",
    "    with open(filename, \"r\") as f:\n",
    "        for line in f:\n",
    "            for num in line.split():\n",
    "                yield int(num)\n",
    "\n",
    "numbers = list(read_number(\"random.txt\"))\n",
    "\n",
    "mean_value = statistics.mean(numbers)\n",
    "stdev_value = statistics.stdev(numbers) \n",
    "\n",
    "print(f\"Giá trị trung bình (mean): {mean_value}\")\n",
    "print(f\"Độ lệch chuẩn (standard deviation): {stdev_value}\") "
   ]
  }
 ],
 "metadata": {
  "kernelspec": {
   "display_name": "Python 3",
   "language": "python",
   "name": "python3"
  },
  "language_info": {
   "codemirror_mode": {
    "name": "ipython",
    "version": 3
   },
   "file_extension": ".py",
   "mimetype": "text/x-python",
   "name": "python",
   "nbconvert_exporter": "python",
   "pygments_lexer": "ipython3",
   "version": "3.13.7"
  }
 },
 "nbformat": 4,
 "nbformat_minor": 5
}
