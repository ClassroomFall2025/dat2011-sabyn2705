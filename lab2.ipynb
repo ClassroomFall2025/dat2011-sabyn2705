{
 "cells": [
  {
   "cell_type": "markdown",
   "id": "fdeff819",
   "metadata": {},
   "source": [
    "# Sinh Viên thực hiện Lab 2 ở Đây"
   ]
  },
  {
   "cell_type": "markdown",
   "id": "acc5d7dc",
   "metadata": {},
   "source": [
    "## Lab 2 - Bài 1"
   ]
  },
  {
   "cell_type": "code",
   "execution_count": 11,
   "id": "001e0507",
   "metadata": {},
   "outputs": [
    {
     "name": "stdout",
     "output_type": "stream",
     "text": [
      "Bài thơ:\n",
      " \n",
      "            Kiếp con người mỏng manh như là gió\n",
      "            Sống trên đời có được mấy lần vui\n",
      "            Sao phải đau mà không thể mỉm cười\n",
      "            Gắng buông nỗi ngậm ngùi nơi quá khứ\n",
      "\n",
      "            Nếu có thể sao ta không làm thử\n",
      "            Để tâm hồn khắc hai chữ bình an\n",
      "            Cho đôi chân bước thanh thản nhẹ nhàng\n",
      "            Dù hướng đời có muôn ngàn đá sỏi\n",
      "Kiểm tra 'con người' có trong bài thơ: True\n",
      "Nhập từ khóa :  em trinh\n",
      "Từ khóa : \n"
     ]
    }
   ],
   "source": [
    "# Code lab 2 bài 1 ở đây \n",
    "#Sử dụng 1 biến kiểu chuỗi để lưu bài thơ sau: \n",
    "baiTho = '''\n",
    "            Kiếp con người mỏng manh như là gió\n",
    "            Sống trên đời có được mấy lần vui\n",
    "            Sao phải đau mà không thể mỉm cười\n",
    "            Gắng buông nỗi ngậm ngùi nơi quá khứ\n",
    "\n",
    "            Nếu có thể sao ta không làm thử\n",
    "            Để tâm hồn khắc hai chữ bình an\n",
    "            Cho đôi chân bước thanh thản nhẹ nhàng\n",
    "            Dù hướng đời có muôn ngàn đá sỏi'''\n",
    "\n",
    "print(\"Bài thơ:\\n\", baiTho)\n",
    "print(\"Kiểm tra 'con người' có trong bài thơ:\", \"con người\" in baiTho)\n",
    "tuKhoa = input(\"Nhap từ tìm kiếm :\")\n",
    "print(\"Nhập từ khóa : \",tuKhoa)\n",
    "index1 =  baiTho.find(tuKhoa)\n",
    "index2 = index1 +len(tuKhoa)\n",
    "trichXuat = baiTho[index1:index2]\n",
    "print(\"Từ khóa :\",trichXuat)\n",
    "\n"
   ]
  },
  {
   "cell_type": "markdown",
   "id": "c0835310",
   "metadata": {},
   "source": [
    "## Lab 2 - Bài 2"
   ]
  },
  {
   "cell_type": "code",
   "execution_count": null,
   "id": "fa9cb39f",
   "metadata": {},
   "outputs": [],
   "source": [
    "# Code lab 2  bài 2 ở đây"
   ]
  },
  {
   "cell_type": "markdown",
   "id": "0f2483fe",
   "metadata": {},
   "source": [
    "## Lab 2 - Bài 3"
   ]
  },
  {
   "cell_type": "code",
   "execution_count": null,
   "id": "7034990b",
   "metadata": {},
   "outputs": [],
   "source": [
    "# Code lab 2  bài 3 ở đây"
   ]
  },
  {
   "cell_type": "markdown",
   "id": "d36ea3d3",
   "metadata": {},
   "source": [
    "## Lab 2 - Bài 4"
   ]
  },
  {
   "cell_type": "code",
   "execution_count": null,
   "id": "4c707ec1",
   "metadata": {},
   "outputs": [],
   "source": [
    "# code lab 2 bài 4 ở đây"
   ]
  },
  {
   "cell_type": "markdown",
   "id": "e2b41d4a",
   "metadata": {},
   "source": [
    "## Lab 2 - Bài 5: bài tập làm thêm"
   ]
  },
  {
   "cell_type": "code",
   "execution_count": null,
   "id": "0e0172f7",
   "metadata": {},
   "outputs": [],
   "source": [
    "# code lab 2  bài làm thêm ở đây "
   ]
  }
 ],
 "metadata": {
  "kernelspec": {
   "display_name": "Python 3",
   "language": "python",
   "name": "python3"
  },
  "language_info": {
   "codemirror_mode": {
    "name": "ipython",
    "version": 3
   },
   "file_extension": ".py",
   "mimetype": "text/x-python",
   "name": "python",
   "nbconvert_exporter": "python",
   "pygments_lexer": "ipython3",
   "version": "3.13.7"
  }
 },
 "nbformat": 4,
 "nbformat_minor": 5
}
