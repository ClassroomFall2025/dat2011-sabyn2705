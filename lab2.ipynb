{
 "cells": [
  {
   "cell_type": "markdown",
   "id": "fdeff819",
   "metadata": {},
   "source": [
    "# Sinh Viên thực hiện Lab 2 ở Đây"
   ]
  },
  {
   "cell_type": "markdown",
   "id": "acc5d7dc",
   "metadata": {},
   "source": [
    "## Lab 2 - Bài 1"
   ]
  },
  {
   "cell_type": "code",
   "execution_count": 11,
   "id": "001e0507",
   "metadata": {},
   "outputs": [
    {
     "name": "stdout",
     "output_type": "stream",
     "text": [
      "Bài thơ:\n",
      " \n",
      "            Kiếp con người mỏng manh như là gió\n",
      "            Sống trên đời có được mấy lần vui\n",
      "            Sao phải đau mà không thể mỉm cười\n",
      "            Gắng buông nỗi ngậm ngùi nơi quá khứ\n",
      "\n",
      "            Nếu có thể sao ta không làm thử\n",
      "            Để tâm hồn khắc hai chữ bình an\n",
      "            Cho đôi chân bước thanh thản nhẹ nhàng\n",
      "            Dù hướng đời có muôn ngàn đá sỏi\n",
      "Kiểm tra 'con người' có trong bài thơ: True\n",
      "Nhập từ khóa :  em trinh\n",
      "Từ khóa : \n"
     ]
    }
   ],
   "source": [
    "# Code lab 2 bài 1 ở đây \n",
    "#Sử dụng 1 biến kiểu chuỗi để lưu bài thơ sau: \n",
    "baiTho = '''\n",
    "            Kiếp con người mỏng manh như là gió\n",
    "            Sống trên đời có được mấy lần vui\n",
    "            Sao phải đau mà không thể mỉm cười\n",
    "            Gắng buông nỗi ngậm ngùi nơi quá khứ\n",
    "\n",
    "            Nếu có thể sao ta không làm thử\n",
    "            Để tâm hồn khắc hai chữ bình an\n",
    "            Cho đôi chân bước thanh thản nhẹ nhàng\n",
    "            Dù hướng đời có muôn ngàn đá sỏi'''\n",
    "\n",
    "print(\"Bài thơ:\\n\", baiTho)\n",
    "print(\"Kiểm tra 'con người' có trong bài thơ:\", \"con người\" in baiTho)\n",
    "tuKhoa = input(\"Nhap từ tìm kiếm :\")\n",
    "print(\"Nhập từ khóa : \",tuKhoa)\n",
    "index1 =  baiTho.find(tuKhoa)\n",
    "index2 = index1 +len(tuKhoa)\n",
    "trichXuat = baiTho[index1:index2]\n",
    "print(\"Từ khóa :\",trichXuat)\n",
    "\n"
   ]
  },
  {
   "cell_type": "markdown",
   "id": "c0835310",
   "metadata": {},
   "source": [
    "## Lab 2 - Bài 2"
   ]
  },
  {
   "cell_type": "code",
   "execution_count": 5,
   "id": "fa9cb39f",
   "metadata": {},
   "outputs": [
    {
     "name": "stdout",
     "output_type": "stream",
     "text": [
      "Kiếp con người mong manh như là gió \n",
      "sống trên đời được mấy lần vui\n",
      "Sao phải đau mà không thể mỉm cười \n",
      "Gắng buông nỗi ngậm ngùi nơi quá khứ\n",
      "\n",
      "Nếu có thể sao ta không làm thử\n",
      "Để tâm hồn khắc hai chữ bình an\n",
      "Cho đôi chân bước thanh thản nhẹ nhàng\n",
      "Dù hướng đời có muôn ngàn đá sỏi\n",
      "\n",
      "Vị trí của từ cần tìm trong bài thơ:  198\n",
      "\n",
      "Bài thơ sau khi thay thế:\n",
      " ...\n",
      "Kiếp con người mong manh như là gió \n",
      "sống trên đời được mấy lần vui\n",
      "Sao phải đau mà không thể mỉm cười \n",
      "Gắng buông nỗi ngậm ngùi nơi quá khứ\n",
      "\n",
      "Nếu có thể sao ta không làm thử\n",
      "Để tâm hồn khắc hai chữ hạnh phúc\n",
      "Cho đôi chân bước thanh thản nhẹ nhàng\n",
      "Dù hướng đời có muôn ngàn đá sỏi\n",
      " ...\n"
     ]
    }
   ],
   "source": [
    "# Code lab 2  bài 2 ở đây\n",
    "bai_tho = '''Kiếp con người mong manh như là gió \n",
    "sống trên đời được mấy lần vui\n",
    "Sao phải đau mà không thể mỉm cười \n",
    "Gắng buông nỗi ngậm ngùi nơi quá khứ\n",
    "\n",
    "Nếu có thể sao ta không làm thử\n",
    "Để tâm hồn khắc hai chữ bình an\n",
    "Cho đôi chân bước thanh thản nhẹ nhàng\n",
    "Dù hướng đời có muôn ngàn đá sỏi'''\n",
    "# print(bai_tho)\n",
    "# find = bai_tho.find(\"bình an\")\n",
    "# print(\"\\nVị trí của chuỗi 'bình an' trong bài thơ: \", find)\n",
    "# change = bai_tho.replace(\"bình an\", \"hạnh phúc\")\n",
    "# change_2 =\"...\\n\" + change + \"\\n ...\"\n",
    "# print(\"\\nBài thơ sau khi thay thế:\\n\", change_2)\n",
    "#------------------------------------------------------------------------------\n",
    "print(bai_tho)\n",
    "tu_tim_kiem = input(\"\\nNhập từ cần tìm trong bài thơ: \" )\n",
    "find = bai_tho.find(tu_tim_kiem)\n",
    "print(\"\\nVị trí của từ cần tìm trong bài thơ: \", find)\n",
    "tu_thay_the = input(\"Nhập từ thay thế: \")\n",
    "change = bai_tho.replace(tu_tim_kiem, tu_thay_the)  \n",
    "change_2 =\"...\\n\" + change + \"\\n ...\"\n",
    "print(\"\\nBài thơ sau khi thay thế:\\n\", change_2)"
   ]
  },
  {
   "cell_type": "markdown",
   "id": "0f2483fe",
   "metadata": {},
   "source": [
    "## Lab 2 - Bài 3"
   ]
  },
  {
   "cell_type": "code",
   "execution_count": 4,
   "id": "7034990b",
   "metadata": {},
   "outputs": [
    {
     "name": "stdout",
     "output_type": "stream",
     "text": [
      "Phương trình có nghiệm là:  -4.0\n"
     ]
    }
   ],
   "source": [
    "# Code lab 2  bài 3 ở đây\n",
    "so_a = float(input(\"Nhập số a để giải phương trình bật nhất: \"))\n",
    "so_b = float(input(\"Nhập số b để giải phương trình bật nhất: \"))\n",
    "if so_a == 0:\n",
    "    if so_b == 0:\n",
    "        print(\"Phương trình vô số nghiệm\")\n",
    "    else:\n",
    "        print(\"Phương trình vô nghiệm\")\n",
    "else:\n",
    "    nghiem = -so_b/so_a\n",
    "    print(\"Phương trình có nghiệm là: \", nghiem)"
   ]
  },
  {
   "cell_type": "markdown",
   "id": "d36ea3d3",
   "metadata": {},
   "source": [
    "## Lab 2 - Bài 4"
   ]
  },
  {
   "cell_type": "code",
   "execution_count": 3,
   "id": "4c707ec1",
   "metadata": {},
   "outputs": [
    {
     "name": "stdout",
     "output_type": "stream",
     "text": [
      "\n",
      "Giải phương trình căn bậc 2: ax^2 + bx + c = 0\n",
      "Phương trình có hai nghiệm phân biệt: \n",
      "Nghiệm thứ nhất:  -0.2254033307585166\n",
      "Nghiệm thứ hai:  -1.7745966692414832\n"
     ]
    }
   ],
   "source": [
    "# code lab 2 bài 4 ở đây\n",
    "print(\"\\nGiải phương trình căn bậc 2: ax^2 + bx + c = 0\")\n",
    "so_a = float(input(\"Nhập số a để giải phương trình căn bậc 2: \"))\n",
    "so_b = float(input(\"Nhập số b để giải phương trình căn bậc 2: \"))\n",
    "so_c = float(input(\"Nhập số c để giải phương trình căn bậc 2: \"))\n",
    "if so_a == 0:\n",
    "    print(\"Giai phương trình bậc nhất\")\n",
    "    if so_b == 0:\n",
    "        if so_c == 0:\n",
    "            print(\"Phương trình vô số nghiệm\")\n",
    "        else:\n",
    "            print(\"Phương trình vô nghiệm\")\n",
    "    else:\n",
    "        nghiem = -so_c/so_b\n",
    "        print(\"Phương trình có nghiệm là: \", nghiem)\n",
    "else:\n",
    "    delta = so_b**2 - 4*so_a*so_c\n",
    "    if delta < 0:\n",
    "        print(\"Phương trình vô nghiệm\")\n",
    "    elif delta == 0:\n",
    "        nghiem_kep = -so_b/(2*so_a)\n",
    "        print(\"Phương trình có nghiệm kép: \", nghiem_kep)\n",
    "    else:\n",
    "        nghiem_1 = (-so_b + delta**0.5)/(2*so_a)\n",
    "        nghiem_2 = (-so_b - delta**0.5)/(2*so_a)\n",
    "        print(\"Phương trình có hai nghiệm phân biệt: \")\n",
    "        print(\"Nghiệm thứ nhất: \", nghiem_1)\n",
    "        print(\"Nghiệm thứ hai: \", nghiem_2)"
   ]
  },
  {
   "cell_type": "markdown",
   "id": "e2b41d4a",
   "metadata": {},
   "source": [
    "## Lab 2 - Bài 5: bài tập làm thêm"
   ]
  },
  {
   "cell_type": "code",
   "execution_count": 2,
   "id": "0e0172f7",
   "metadata": {},
   "outputs": [
    {
     "name": "stdout",
     "output_type": "stream",
     "text": [
      "Nhập 3 số bất kì để tìm số lớn nhất trong 3 số đó\n",
      "Số lớn nhất là:  10\n"
     ]
    }
   ],
   "source": [
    "# code lab 2  bài làm thêm ở đây \n",
    "print(\"Nhập 3 số bất kì để tìm số lớn nhất trong 3 số đó\")\n",
    "so_1 = int(input(\"Nhập số thứ nhất: \"))\n",
    "so_2 = int(input(\"Nhập số thứ hai: \"))\n",
    "so_3 = int(input(\"Nhập số thứ ba: \"))\n",
    "if so_1 >= so_2 and so_1 >= so_3:\n",
    "    print(\"Số lớn nhất là: \", so_1)\n",
    "elif so_2 >= so_1 and so_2 >= so_3:\n",
    "    print(\"Số lớn nhất là: \", so_2)\n",
    "else:\n",
    "    print(\"Số lớn nhất là: \", so_3)"
   ]
  }
 ],
 "metadata": {
  "kernelspec": {
   "display_name": "Python 3",
   "language": "python",
   "name": "python3"
  },
  "language_info": {
   "codemirror_mode": {
    "name": "ipython",
    "version": 3
   },
   "file_extension": ".py",
   "mimetype": "text/x-python",
   "name": "python",
   "nbconvert_exporter": "python",
   "pygments_lexer": "ipython3",
   "version": "3.13.7"
  }
 },
 "nbformat": 4,
 "nbformat_minor": 5
}
