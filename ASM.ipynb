{
 "cells": [
  {
   "cell_type": "code",
   "execution_count": 8,
   "id": "17e9047e",
   "metadata": {},
   "outputs": [],
   "source": [
    "from ASM_CL import *\n",
    "from ASM_def import *\n",
    "\n",
    "def menu():\n",
    "    while True:\n",
    "        print(\"\\n=== MENU QUẢN LÝ NHÂN VIÊN ===\")\n",
    "        print(\"1. Nhập danh sách nhân viên\")\n",
    "        print(\"2. Đọc từ file\")\n",
    "        print(\"3. Tìm nhân viên theo mã\")\n",
    "        print(\"4. Xóa nhân viên theo mã\")\n",
    "        print(\"5. Cập nhật thông tin nhân viên\")\n",
    "        print(\"6. Tìm nhân viên theo khoảng lương\")\n",
    "        print(\"7. Sắp xếp theo họ tên\")\n",
    "        print(\"8. Sắp xếp theo thu nhập\")\n",
    "        print(\"9. Top 5 nhân viên thu nhập cao nhất\")\n",
    "        print(\"0. Thoát chương trình\")\n",
    "\n",
    "        chon = input(\"Nhập lựa chọn: \")\n",
    "\n",
    "        match chon:\n",
    "            case \"1\":\n",
    "                nhap_danh_sach_nv()\n",
    "            case \"2\":\n",
    "                doc_tu_file()\n",
    "            case \"3\":\n",
    "                tim_nv_theo_ma()\n",
    "            case \"4\":\n",
    "                xoa_nv_theo_ma()\n",
    "            case \"5\":\n",
    "                capnhat_nv_theo_ma()\n",
    "            case \"6\":\n",
    "                tim_nv_theo_khoang_luong()\n",
    "            case \"7\":\n",
    "                sapxep_theo_hoten()\n",
    "            case \"8\":\n",
    "                sapxep_theo_thunhap()\n",
    "            case \"9\":\n",
    "                top5_thunhap()\n",
    "            case \"0\":\n",
    "                print(\"Tạm biệt, hẹn gặp lại!\")\n",
    "                break\n",
    "            case _:\n",
    "                print(\"Lựa chọn không hợp lệ, vui lòng nhập lại!\")\n"
   ]
  }
 ],
 "metadata": {
  "kernelspec": {
   "display_name": "Python 3",
   "language": "python",
   "name": "python3"
  },
  "language_info": {
   "codemirror_mode": {
    "name": "ipython",
    "version": 3
   },
   "file_extension": ".py",
   "mimetype": "text/x-python",
   "name": "python",
   "nbconvert_exporter": "python",
   "pygments_lexer": "ipython3",
   "version": "3.13.7"
  }
 },
 "nbformat": 4,
 "nbformat_minor": 5
}
