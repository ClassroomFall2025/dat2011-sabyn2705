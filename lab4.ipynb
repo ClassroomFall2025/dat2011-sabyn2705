{
 "cells": [
  {
   "cell_type": "markdown",
   "id": "fdeff819",
   "metadata": {},
   "source": [
    "# Sinh Viên thực hiện Lab 4 ở Đây"
   ]
  },
  {
   "cell_type": "markdown",
   "id": "acc5d7dc",
   "metadata": {},
   "source": [
    "## Lab 1 - Bài 1"
   ]
  },
  {
   "cell_type": "code",
   "execution_count": 11,
   "id": "001e0507",
   "metadata": {},
   "outputs": [
    {
     "name": "stdout",
     "output_type": "stream",
     "text": [
      "Bài 1: Tính tiền nước\n",
      "12 m3 => 92600 VND\n",
      "23 m3 => 199000 VND\n",
      "34 m3 => 379000 VND\n"
     ]
    }
   ],
   "source": [
    "# Code lab 4 bài 1 ở đây\n",
    "from lab4 import tinh_tien_nuoc\n",
    "# Bài 1\n",
    "print(\"Bài 1: Tính tiền nước\")\n",
    "for m3 in [12, 23, 34]:\n",
    "    print(f\"{m3} m3 => {tinh_tien_nuoc(m3)} VND\")"
   ]
  },
  {
   "cell_type": "markdown",
   "id": "c0835310",
   "metadata": {},
   "source": [
    "## Lab 4 - Bài 2"
   ]
  },
  {
   "cell_type": "code",
   "execution_count": 1,
   "id": "fa9cb39f",
   "metadata": {},
   "outputs": [
    {
     "name": "stdout",
     "output_type": "stream",
     "text": [
      "\n",
      "Bài 2: Nguyên liệu hộp bánh\n",
      "{'sugar': 0.31, 'bean': 0.16}\n"
     ]
    }
   ],
   "source": [
    "# Code lab 4  bài 2 ở đây\n",
    "from lab4 import tinh_nguyen_lieu\n",
    "print(\"\\nBài 2: Nguyên liệu hộp bánh\")\n",
    "print(tinh_nguyen_lieu(2, 3, 1)) \n"
   ]
  },
  {
   "cell_type": "markdown",
   "id": "0f2483fe",
   "metadata": {},
   "source": [
    "## Lab 4 - Bài 3"
   ]
  },
  {
   "cell_type": "code",
   "execution_count": 13,
   "id": "7034990b",
   "metadata": {},
   "outputs": [
    {
     "name": "stdout",
     "output_type": "stream",
     "text": [
      "\n",
      "Bài 3: Lọc số chẵn\n",
      "Danh sách: [1, 2, 3, 4, 5, 6]\n",
      "Số chẵn: [2, 4, 6]\n"
     ]
    }
   ],
   "source": [
    "# Code lab 4  bài 3 ở đây\n",
    "from lab4 import loc_so_chan \n",
    "print(\"\\nBài 3: Lọc số chẵn\")\n",
    "ds = [1, 2, 3, 4, 5, 6]\n",
    "print(\"Danh sách:\", ds)\n",
    "print(\"Số chẵn:\", loc_so_chan(ds))"
   ]
  },
  {
   "cell_type": "markdown",
   "id": "d36ea3d3",
   "metadata": {},
   "source": [
    "## Lab 4 - Bài 4"
   ]
  },
  {
   "cell_type": "code",
   "execution_count": 14,
   "id": "4c707ec1",
   "metadata": {},
   "outputs": [
    {
     "name": "stdout",
     "output_type": "stream",
     "text": [
      "\n",
      "--- MENU ---\n",
      "1. Tính tiền nước sinh hoạt\n",
      "2. Tính nguyên liệu làm hộp bánh\n",
      "3. Lọc số chẵn từ dãy số\n",
      "4. Thoát\n",
      "Thoát chương trình.\n"
     ]
    }
   ],
   "source": [
    "# code lab 4 bài 4 ở đây\n",
    "from lab4 import menu\n",
    "menu()"
   ]
  },
  {
   "cell_type": "markdown",
   "id": "e2b41d4a",
   "metadata": {},
   "source": [
    "## Lab 4 - Bài 5: bài tập làm thêm"
   ]
  },
  {
   "cell_type": "code",
   "execution_count": 4,
   "id": "0e0172f7",
   "metadata": {},
   "outputs": [
    {
     "name": "stdout",
     "output_type": "stream",
     "text": [
      "\n",
      " MENU CHƯƠNG TRÌNH \n",
      "1. Tính tiền nước sinh hoạt\n",
      "2. Tính nguyên liệu làm hộp bánh\n",
      "3. Lọc số chẵn từ danh sách\n",
      "4. Thoát chương trình\n",
      " Tiền nước: 75000 VND\n",
      "\n",
      " MENU CHƯƠNG TRÌNH \n",
      "1. Tính tiền nước sinh hoạt\n",
      "2. Tính nguyên liệu làm hộp bánh\n",
      "3. Lọc số chẵn từ danh sách\n",
      "4. Thoát chương trình\n",
      "Kết thúc chương trình \n"
     ]
    }
   ],
   "source": [
    "# code lab 4  bài làm thêm ở đây \n",
    "from lab4 import tinh_tien_nuoc, tinh_nguyen_lieu, loc_so_chan\n",
    "\n",
    "def menu():\n",
    "    while True:\n",
    "        print(\"\\n MENU CHƯƠNG TRÌNH \")\n",
    "        print(\"1. Tính tiền nước sinh hoạt\")\n",
    "        print(\"2. Tính nguyên liệu làm hộp bánh\")\n",
    "        print(\"3. Lọc số chẵn từ danh sách\")\n",
    "        print(\"4. Thoát chương trình\")\n",
    "\n",
    "        try:\n",
    "            lua_chon = int(input(\"Nhập lựa chọn (1-4): \"))\n",
    "\n",
    "            match lua_chon:\n",
    "                case 1:\n",
    "                    so_m3 = int(input(\"Nhập số met khối  nước: \"))\n",
    "                    print(f\" Tiền nước: {tinh_tien_nuoc(so_m3)} VND\")\n",
    "\n",
    "                case 2:\n",
    "                    dx = int(input(\"Số bánh đậu xanh: \"))\n",
    "                    tc = int(input(\"Số bánh thập cẩm: \"))\n",
    "                    deo = int(input(\"Số bánh dẻo: \"))\n",
    "                    print(\" Nguyên liệu cần:\", tinh_nguyen_lieu(dx, tc, deo))\n",
    "\n",
    "                case 3:\n",
    "                    ds = input(\"Nhập dãy số (cách nhau bằng khoảng trắng): \").split()\n",
    "                    ds_int = [int(x) for x in ds]\n",
    "                    print(\" Số chẵn trong danh sách:\", loc_so_chan(ds_int))\n",
    "\n",
    "                case 4:\n",
    "                    print(\"Kết thúc chương trình \")\n",
    "                    break\n",
    "\n",
    "                case _:\n",
    "                    print(\" Vui lòng chọn chương trình từ 1 đến 4\")\n",
    "\n",
    "        except ValueError:\n",
    "            print(\" Nhập không hợp lệ!\")\n",
    "\n",
    "# Chạy chương trình\n",
    "if __name__ == \"__main__\":\n",
    "    menu()\n",
    "\n"
   ]
  }
 ],
 "metadata": {
  "kernelspec": {
   "display_name": "Python 3",
   "language": "python",
   "name": "python3"
  },
  "language_info": {
   "codemirror_mode": {
    "name": "ipython",
    "version": 3
   },
   "file_extension": ".py",
   "mimetype": "text/x-python",
   "name": "python",
   "nbconvert_exporter": "python",
   "pygments_lexer": "ipython3",
   "version": "3.13.7"
  }
 },
 "nbformat": 4,
 "nbformat_minor": 5
}
