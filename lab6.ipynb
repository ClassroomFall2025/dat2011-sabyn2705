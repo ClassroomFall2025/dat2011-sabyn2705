{
 "cells": [
  {
   "cell_type": "markdown",
   "id": "fdeff819",
   "metadata": {},
   "source": [
    "# Sinh Viên thực hiện Lab 6 ở Đây"
   ]
  },
  {
   "cell_type": "markdown",
   "id": "acc5d7dc",
   "metadata": {},
   "source": [
    "## Lab 6 - Bài 1"
   ]
  },
  {
   "cell_type": "code",
   "execution_count": 2,
   "id": "001e0507",
   "metadata": {},
   "outputs": [
    {
     "name": "stdout",
     "output_type": "stream",
     "text": [
      "Nhập thông tin hình chữ nhật thứ nhất:\n",
      "\n",
      "Nhập thông tin hình chữ nhật thứ hai:\n",
      "\n",
      "Nhập thông tin hình vuông:\n",
      "\n",
      "KẾT QUẢ:\n",
      "---HÌNH CHỮ NHẬT---:\n",
      "Chiều dài là: 10.0\n",
      "Chiều rộng là: 5.0\n",
      "Chu vi là: 30.0\n",
      "Diện tích là: 50.0\n",
      "---HÌNH CHỮ NHẬT---:\n",
      "Chiều dài là: 10.0\n",
      "Chiều rộng là: 2.0\n",
      "Chu vi là: 24.0\n",
      "Diện tích là: 20.0\n",
      "---HÌNH VUÔNG---:\n",
      "Cạnh là: 10.0\n",
      "Chu vi là: 40.0\n",
      "Diện tích là: 100.0\n"
     ]
    }
   ],
   "source": [
    "# Code lab 6 bài 1 ở đây\n",
    "from lab6_def import ChuNhat, Vuong\n",
    "if __name__ == \"__main__\":\n",
    "    print(\"Nhập thông tin hình chữ nhật thứ nhất:\")\n",
    "    cn1 = ChuNhat(float(input(\"Chiều dài: \")), float(input(\"Chiều rộng: \")))\n",
    "\n",
    "    print(\"\\nNhập thông tin hình chữ nhật thứ hai:\")\n",
    "    cn2 = ChuNhat(float(input(\"Chiều dài: \")), float(input(\"Chiều rộng: \")))\n",
    "\n",
    "    print(\"\\nNhập thông tin hình vuông:\")\n",
    "    vu = Vuong(float(input(\"Cạnh: \")))\n",
    "\n",
    "    print(\"\\nKẾT QUẢ:\")\n",
    "    cn1.xuat()\n",
    "    cn2.xuat()\n",
    "    vu.xuat()"
   ]
  },
  {
   "cell_type": "markdown",
   "id": "c0835310",
   "metadata": {},
   "source": [
    "## Lab 6 - Bài 2"
   ]
  },
  {
   "cell_type": "code",
   "execution_count": null,
   "id": "fa9cb39f",
   "metadata": {},
   "outputs": [
    {
     "name": "stdout",
     "output_type": "stream",
     "text": [
      "=== NHẬP THÔNG TIN SINH VIÊN ===\n",
      "\n",
      "--- THÔNG TIN SINH VIÊN ---\n",
      "Họ và tên: Lê Thị Tuyết Trinh\n",
      "Ngành học: IT\n",
      "Điểm: 10.0\n",
      "Học lực: Xuất sắc\n"
     ]
    }
   ],
   "source": [
    "# Code lab 6  bài 2 ở đây\n",
    "from lab6_sv_def import SinhVienPoly\n",
    "\n",
    "class SinhVienDemo(SinhVienPoly):\n",
    "    def __init__(self, ho_ten, nganh, diem_tb):\n",
    "        super().__init__(ho_ten, nganh)\n",
    "        self.diem_tb = diem_tb\n",
    "\n",
    "    def get_diem(self):\n",
    "        return self.diem_tb\n",
    "\n",
    "\n",
    "if __name__ == \"__main__\":\n",
    "    print(\"=== NHẬP THÔNG TIN SINH VIÊN ===\")\n",
    "    ho_ten = input(\"Họ tên: \")\n",
    "    nganh = input(\"Ngành: \")\n",
    "    diem_tb = float(input(\"Điểm trung bình: \"))\n",
    "\n",
    "    sv = SinhVienDemo(ho_ten, nganh, diem_tb)\n",
    "\n",
    "    print(\"\\n--- THÔNG TIN SINH VIÊN ---\")\n",
    "    sv.xuat()\n"
   ]
  },
  {
   "cell_type": "markdown",
   "id": "0f2483fe",
   "metadata": {},
   "source": [
    "## Lab 6 - Bài 3"
   ]
  },
  {
   "cell_type": "code",
   "execution_count": null,
   "id": "7034990b",
   "metadata": {},
   "outputs": [
    {
     "name": "stdout",
     "output_type": "stream",
     "text": [
      "--- NHẬP THÔNG TIN SINH VIÊN IT ---\n",
      "\n",
      "--- NHẬP THÔNG TIN SINH VIÊN BIZ ---\n",
      "\n",
      "--- KẾT QUẢ ---\n",
      "\n",
      "Sinh viên IT:\n",
      "Họ và tên: Lê Thị Tuyết Trinh\n",
      "Ngành học: IT\n",
      "Điểm: 10.0\n",
      "Học lực: Xuất sắc\n",
      "\n",
      "Sinh viên Biz:\n",
      "Họ và tên: M\n",
      "Ngành học: Biz\n",
      "Điểm: 13.333333333333334\n",
      "Học lực: Xuất sắc\n"
     ]
    }
   ],
   "source": [
    "# Code lab 6  bài 3 ở đây\n",
    "from lab6_sv_def import SinhVienIT, SinhVienBiz\n",
    "\n",
    "if __name__ == \"__main__\":\n",
    "    print(\"--- NHẬP THÔNG TIN SINH VIÊN IT ---\")\n",
    "    ho_ten_it = input(\"Họ tên: \")\n",
    "    nganh_it = \"IT\"\n",
    "    java = float(input(\"Điểm Java: \"))\n",
    "    html = float(input(\"Điểm HTML: \"))\n",
    "    css = float(input(\"Điểm CSS: \"))\n",
    "    sv_it = SinhVienIT(ho_ten_it, nganh_it, java, html, css)\n",
    "\n",
    "    print(\"\\n--- NHẬP THÔNG TIN SINH VIÊN BIZ ---\")\n",
    "    ho_ten_biz = input(\"Họ và tên: \")\n",
    "    nganh_biz = \"Biz\"\n",
    "    marketing = float(input(\"Điểm Marketing: \"))\n",
    "    sales = float(input(\"Điểm Sales: \"))\n",
    "    sv_biz = SinhVienBiz(ho_ten_biz, nganh_biz, marketing, sales)\n",
    "\n",
    "    print(\"\\n--- KẾT QUẢ ---\")\n",
    "    print(\"\\nSinh viên IT:\")\n",
    "    sv_it.xuat()\n",
    "\n",
    "    print(\"\\nSinh viên Biz:\")\n",
    "    sv_biz.xuat()\n"
   ]
  },
  {
   "cell_type": "markdown",
   "id": "d36ea3d3",
   "metadata": {},
   "source": [
    "## Lab 6 - Bài 4"
   ]
  },
  {
   "cell_type": "code",
   "execution_count": 4,
   "id": "4c707ec1",
   "metadata": {},
   "outputs": [
    {
     "name": "stdout",
     "output_type": "stream",
     "text": [
      "\n",
      "========== MENU ==========\n",
      "1. Nhập danh sách sinh viên\n",
      "2. Xuất danh sách sinh viên\n",
      "3. Xuất sinh viên có học lực giỏi\n",
      "4. Sắp xếp sinh viên theo điểm giảm dần\n",
      "5. Kết thúc\n",
      "==========================\n",
      "Danh sách rỗng.\n",
      "\n",
      "========== MENU ==========\n",
      "1. Nhập danh sách sinh viên\n",
      "2. Xuất danh sách sinh viên\n",
      "3. Xuất sinh viên có học lực giỏi\n",
      "4. Sắp xếp sinh viên theo điểm giảm dần\n",
      "5. Kết thúc\n",
      "==========================\n",
      "\n",
      "--- DANH SÁCH SINH VIÊN GIỎI ---\n",
      "Không có sinh viên giỏi nào trong danh sách.\n",
      "\n",
      "========== MENU ==========\n",
      "1. Nhập danh sách sinh viên\n",
      "2. Xuất danh sách sinh viên\n",
      "3. Xuất sinh viên có học lực giỏi\n",
      "4. Sắp xếp sinh viên theo điểm giảm dần\n",
      "5. Kết thúc\n",
      "==========================\n",
      "Nhập cho đúng chức năng vào!\n",
      "\n",
      "========== MENU ==========\n",
      "1. Nhập danh sách sinh viên\n",
      "2. Xuất danh sách sinh viên\n",
      "3. Xuất sinh viên có học lực giỏi\n",
      "4. Sắp xếp sinh viên theo điểm giảm dần\n",
      "5. Kết thúc\n",
      "==========================\n",
      "Nhập cho đúng chức năng vào!\n",
      "\n",
      "========== MENU ==========\n",
      "1. Nhập danh sách sinh viên\n",
      "2. Xuất danh sách sinh viên\n",
      "3. Xuất sinh viên có học lực giỏi\n",
      "4. Sắp xếp sinh viên theo điểm giảm dần\n",
      "5. Kết thúc\n",
      "==========================\n",
      "Kết thúc chương trình. Tạm biệt nhá!\n"
     ]
    }
   ],
   "source": [
    "# code lab 6 bài 4 ở đây\n",
    "from lab6_sv_def import SinhVienIT, SinhVienBiz\n",
    "\n",
    "def nhap_danh_sach_sv():\n",
    "    ds = []\n",
    "    while True:\n",
    "        print(\"\\n NHẬP SINH VIÊN \")\n",
    "        loai = input(\"Nhập loại sinh viên (Nhấn Enter để dừng): \").strip().upper()\n",
    "        if loai == \"\":\n",
    "            break\n",
    "\n",
    "        ho_ten = input(\"Họ và tên: \")\n",
    "        if loai == \"IT\":\n",
    "            java = float(input(\"Điểm Java: \"))\n",
    "            html = float(input(\"Điểm HTML: \"))\n",
    "            css = float(input(\"Điểm CSS: \"))\n",
    "            sv = SinhVienIT(ho_ten, \"IT\", java, html, css)\n",
    "        elif loai == \"BIZ\":\n",
    "            marketing = float(input(\"Điểm Marketing: \"))\n",
    "            sales = float(input(\"Điểm Sales: \"))\n",
    "            sv = SinhVienBiz(ho_ten, \"Biz\", marketing, sales)\n",
    "        else:\n",
    "            print(\"Sai rồi nhé! Nhập lại giùm.\")\n",
    "            continue\n",
    "\n",
    "        ds.append(sv)\n",
    "        print(\" Đã thêm sinh viên thành công!\")\n",
    "\n",
    "    return ds\n",
    "\n",
    "\n",
    "def xuat_danh_sach_sv(ds):\n",
    "    if not ds:\n",
    "        print(\"Danh sách rỗng.\")\n",
    "    else:\n",
    "        print(\"\\n--- DANH SÁCH SINH VIÊN ---\")\n",
    "        for sv in ds:\n",
    "            print()\n",
    "            sv.xuat()\n",
    "\n",
    "\n",
    "def xuat_sv_gioi(ds):\n",
    "    print(\"\\n--- DANH SÁCH SINH VIÊN GIỎI ---\")\n",
    "    co_gioi = False\n",
    "    for sv in ds:\n",
    "        if sv.get_hoc_luc() == \"Giỏi\":\n",
    "            co_gioi = True\n",
    "            print()\n",
    "            sv.xuat()\n",
    "    if not co_gioi:\n",
    "        print(\"Không có sinh viên giỏi nào trong danh sách.\")\n",
    "\n",
    "\n",
    "def sap_xep_theo_diem(ds):\n",
    "    ds.sort(key=lambda sv: sv.get_diem(), reverse=True)\n",
    "    print(\"\\n--- DANH SÁCH SAU KHI SẮP XẾP THEO ĐIỂM GIẢM DẦN ---\")\n",
    "    for sv in ds:\n",
    "        print()\n",
    "        sv.xuat()\n",
    "\n",
    "if __name__ == \"__main__\":\n",
    "    danh_sach = []\n",
    "\n",
    "    while True:\n",
    "        print(\"\\n========== MENU ==========\")\n",
    "        print(\"1. Nhập danh sách sinh viên\")\n",
    "        print(\"2. Xuất danh sách sinh viên\")\n",
    "        print(\"3. Xuất sinh viên có học lực giỏi\")\n",
    "        print(\"4. Sắp xếp sinh viên theo điểm giảm dần\")\n",
    "        print(\"5. Kết thúc\")\n",
    "        print(\"==========================\")\n",
    "\n",
    "        chon = input(\"Chọn chức năng (1-5): \")\n",
    "\n",
    "        match chon:\n",
    "            case \"1\":\n",
    "                danh_sach = nhap_danh_sach_sv()\n",
    "            case \"2\":\n",
    "                xuat_danh_sach_sv(danh_sach)\n",
    "            case \"3\":\n",
    "                xuat_sv_gioi(danh_sach)\n",
    "            case \"4\":\n",
    "                sap_xep_theo_diem(danh_sach)\n",
    "            case \"5\":\n",
    "                print(\"Kết thúc chương trình. Tạm biệt nhá!\")\n",
    "                break\n",
    "            case _:\n",
    "                print(\"Nhập cho đúng chức năng vào!\")\n"
   ]
  },
  {
   "cell_type": "markdown",
   "id": "e2b41d4a",
   "metadata": {},
   "source": [
    "## Lab 6 - Bài 5: bài tập làm thêm"
   ]
  },
  {
   "cell_type": "code",
   "execution_count": null,
   "id": "0e0172f7",
   "metadata": {},
   "outputs": [],
   "source": [
    "# code lab 6  bài làm thêm ở đây "
   ]
  }
 ],
 "metadata": {
  "kernelspec": {
   "display_name": "Python 3",
   "language": "python",
   "name": "python3"
  },
  "language_info": {
   "codemirror_mode": {
    "name": "ipython",
    "version": 3
   },
   "file_extension": ".py",
   "mimetype": "text/x-python",
   "name": "python",
   "nbconvert_exporter": "python",
   "pygments_lexer": "ipython3",
   "version": "3.13.7"
  }
 },
 "nbformat": 4,
 "nbformat_minor": 5
}
